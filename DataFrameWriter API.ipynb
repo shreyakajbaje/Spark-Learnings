{
 "cells": [
  {
   "cell_type": "code",
   "execution_count": 0,
   "metadata": {
    "application/vnd.databricks.v1+cell": {
     "cellMetadata": {
      "byteLimit": 2048000,
      "rowLimit": 10000
     },
     "inputWidgets": {},
     "nuid": "eb578eda-a596-4387-b5ab-c3518e8e5454",
     "showTitle": false,
     "title": ""
    }
   },
   "outputs": [],
   "source": [
    "from pyspark.sql import SparkSession\n",
    "\n",
    "spark = SparkSession\\\n",
    "            .builder\\\n",
    "            .appName(\"SparkDemo\")\\\n",
    "            .getOrCreate()\n",
    "\n",
    "loan_df = spark.read\\\n",
    "    .format(\"parquet\")\\\n",
    "        .load(\"/databricks-datasets/learning-spark-v2/loans/loan-risks.snappy.parquet\")\n",
    "\n",
    "loan_df.write\\\n",
    "    .format(\"avro\")\\\n",
    "        .mode(\"overwrite\")\\\n",
    "            .option(\"path\",\"/tmp/par_data\")\\\n",
    "                .save()"
   ]
  },
  {
   "cell_type": "code",
   "execution_count": 0,
   "metadata": {
    "application/vnd.databricks.v1+cell": {
     "cellMetadata": {
      "byteLimit": 2048000,
      "rowLimit": 10000
     },
     "inputWidgets": {},
     "nuid": "53739042-5a71-41f9-9fcb-59ce6e8893ad",
     "showTitle": false,
     "title": ""
    }
   },
   "outputs": [],
   "source": [
    "from pyspark.sql.functions import *\n",
    "\n",
    "loan_df.groupBy(spark_partition_id()).count().show()"
   ]
  },
  {
   "cell_type": "code",
   "execution_count": 0,
   "metadata": {
    "application/vnd.databricks.v1+cell": {
     "cellMetadata": {
      "byteLimit": 2048000,
      "rowLimit": 10000
     },
     "inputWidgets": {},
     "nuid": "4758f7df-c5c4-4f47-a154-0c29c57b3e7d",
     "showTitle": false,
     "title": ""
    }
   },
   "outputs": [],
   "source": [
    "partitionedDF = loan_df.repartition(5)\n",
    "partitionedDF.groupBy(spark_partition_id()).count().show()"
   ]
  },
  {
   "cell_type": "code",
   "execution_count": 0,
   "metadata": {
    "application/vnd.databricks.v1+cell": {
     "cellMetadata": {
      "byteLimit": 2048000,
      "rowLimit": 10000
     },
     "inputWidgets": {},
     "nuid": "692e7ac2-284d-441c-813b-fcb2222deb77",
     "showTitle": false,
     "title": ""
    }
   },
   "outputs": [],
   "source": [
    "partitionedDF.write\\\n",
    "    .format(\"avro\")\\\n",
    "        .mode(\"overwrite\")\\\n",
    "            .option(\"path\",\"/tmp/par_data\")\\\n",
    "                .save()"
   ]
  },
  {
   "cell_type": "code",
   "execution_count": 0,
   "metadata": {
    "application/vnd.databricks.v1+cell": {
     "cellMetadata": {
      "byteLimit": 2048000,
      "rowLimit": 10000
     },
     "inputWidgets": {},
     "nuid": "59dcb67e-d87e-4fd3-a466-717654fca8fd",
     "showTitle": false,
     "title": ""
    }
   },
   "outputs": [],
   "source": [
    "partitionedDF.printSchema()"
   ]
  }
 ],
 "metadata": {
  "application/vnd.databricks.v1+notebook": {
   "dashboards": [],
   "environmentMetadata": null,
   "language": "python",
   "notebookMetadata": {
    "pythonIndentUnit": 4
   },
   "notebookName": "DataFrameWriter API",
   "widgets": {}
  }
 },
 "nbformat": 4,
 "nbformat_minor": 0
}
